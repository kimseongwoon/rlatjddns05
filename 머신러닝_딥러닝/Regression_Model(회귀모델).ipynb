{
  "nbformat": 4,
  "nbformat_minor": 0,
  "metadata": {
    "colab": {
      "provenance": []
    },
    "kernelspec": {
      "name": "python3",
      "display_name": "Python 3"
    },
    "language_info": {
      "name": "python"
    }
  },
  "cells": [
    {
      "cell_type": "markdown",
      "source": [
        "# K-최근접 이웃 회귀: K계수 최근접하는 회귀 알고리즘\n",
        "\n",
        "## 분류(Classification): 이진 혹은 다중으로 디지털처럼 나누는 것\n",
        "## 회귀(Regression): 어떤 한 접점(평균)으로 가까워지는 것\n",
        "   ex) 평균적으로 키가 큰 사람의 아이가 부모보다 더 크지 않는다라는 사실을 관찰하고 이를 '평균으로 회귀한다'라고 표현 가능 -> 변수들간의 상관관계를 분석"
      ],
      "metadata": {
        "id": "Ou7d_wOP0C-e"
      }
    },
    {
      "cell_type": "code",
      "execution_count": 7,
      "metadata": {
        "colab": {
          "base_uri": "https://localhost:8080/"
        },
        "id": "nHsBMQIszy5N",
        "outputId": "b1900e3b-6c08-4550-e16a-8e4880f038d4"
      },
      "outputs": [
        {
          "output_type": "stream",
          "name": "stdout",
          "text": [
            "56\n",
            "56\n"
          ]
        }
      ],
      "source": [
        "import numpy as np\n",
        "\n",
        "# 농어 데이터 준비\n",
        "perch_length = np.array(\n",
        "    [8.4, 13.7, 15.0, 16.2, 17.4, 18.0, 18.7, 19.0, 19.6, 20.0,\n",
        "     21.0, 21.0, 21.0, 21.3, 22.0, 22.0, 22.0, 22.0, 22.0, 22.5,\n",
        "     22.5, 22.7, 23.0, 23.5, 24.0, 24.0, 24.6, 25.0, 25.6, 26.5,\n",
        "     27.3, 27.5, 27.5, 27.5, 28.0, 28.7, 30.0, 32.8, 34.5, 35.0,\n",
        "     36.5, 36.0, 37.0, 37.0, 39.0, 39.0, 39.0, 40.0, 40.0, 40.0,\n",
        "     40.0, 42.0, 43.0, 43.0, 43.5, 44.0]\n",
        "     )\n",
        "perch_weight = np.array(\n",
        "    [5.9, 32.0, 40.0, 51.5, 70.0, 100.0, 78.0, 80.0, 85.0, 85.0,\n",
        "     110.0, 115.0, 125.0, 130.0, 120.0, 120.0, 130.0, 135.0, 110.0,\n",
        "     130.0, 150.0, 145.0, 150.0, 170.0, 225.0, 145.0, 188.0, 180.0,\n",
        "     197.0, 218.0, 300.0, 260.0, 265.0, 250.0, 250.0, 300.0, 320.0,\n",
        "     514.0, 556.0, 840.0, 685.0, 700.0, 700.0, 690.0, 900.0, 650.0,\n",
        "     820.0, 850.0, 900.0, 1015.0, 820.0, 1100.0, 1000.0, 1100.0,\n",
        "     1000.0, 1000.0]\n",
        "     )\n",
        "\n",
        "print(perch_length.size)\n",
        "print(perch_weight.size)"
      ]
    },
    {
      "cell_type": "code",
      "source": [
        "import matplotlib.pyplot as plt\n",
        "\n",
        "plt.scatter(perch_length, perch_weight)\n",
        "plt.xlabel('length')\n",
        "plt.ylabel('weight')\n",
        "plt.show()\n",
        "\n",
        "# 특징1: 포물선 곡선을 나타내며 농어의 길이가 커짐에 따라 무게도 늘어나는 특징을 가짐"
      ],
      "metadata": {
        "colab": {
          "base_uri": "https://localhost:8080/",
          "height": 449
        },
        "id": "AHkdQUFm5U9o",
        "outputId": "e09898be-d6a4-411a-d079-7179b801ed57"
      },
      "execution_count": 8,
      "outputs": [
        {
          "output_type": "display_data",
          "data": {
            "text/plain": [
              "<Figure size 640x480 with 1 Axes>"
            ],
            "image/png": "[encoded data removed]"
          },
          "metadata": {}
        }
      ]
    },
    {
      "cell_type": "code",
      "source": [
        "# 사이킷런을 통해서 원본 데이트를 가지고 훈련 데이터와 테스트 데이터를 나누기\n",
        "from sklearn.model_selection import train_test_split\n",
        "\n",
        "train_input, test_input, train_target, test_target = train_test_split(perch_length, perch_weight, random_state=42)\n",
        "print(train_input.shape, test_input.shape)"
      ],
      "metadata": {
        "colab": {
          "base_uri": "https://localhost:8080/"
        },
        "id": "tay7he1e5_Dj",
        "outputId": "0c9834b6-de94-40c0-8205-04a45b8a351a"
      },
      "execution_count": 10,
      "outputs": [
        {
          "output_type": "stream",
          "name": "stdout",
          "text": [
            "(42,) (14,)\n"
          ]
        }
      ]
    },
    {
      "cell_type": "code",
      "source": [
        "# 사이킷런을 사용하기 위해 1차원으로 된 데이터들을 2차원으로 변경\n",
        "# 예제\n",
        "test_array = np.array([1,2,3,4])\n",
        "print(test_array.shape)\n",
        "\n",
        "test_array = test_array.reshape(2,2)\n",
        "print(test_array.shape)"
      ],
      "metadata": {
        "colab": {
          "base_uri": "https://localhost:8080/"
        },
        "id": "iRg4oTnh8gf-",
        "outputId": "bf6909bc-4522-45e2-e030-703dd0b87ff1"
      },
      "execution_count": 15,
      "outputs": [
        {
          "output_type": "stream",
          "name": "stdout",
          "text": [
            "(4,)\n",
            "(2, 2)\n"
          ]
        }
      ]
    },
    {
      "cell_type": "code",
      "source": [
        "train_input = train_input.reshape(-1, 1)   # 첫번째 크기는 그대로 두고 두번째 크기는 1로 세팅\n",
        "print(train_input.shape)\n",
        "test_input = test_input.reshape(-1, 1)   # 첫번째 크기는 그대로 두고 두번째 크기는 1로 세팅\n",
        "print(test_input.shape)"
      ],
      "metadata": {
        "colab": {
          "base_uri": "https://localhost:8080/"
        },
        "id": "vM8gr2ZZ9ThW",
        "outputId": "7e2bb18a-2258-45a5-d1c7-bc6b55af0a36"
      },
      "execution_count": 18,
      "outputs": [
        {
          "output_type": "stream",
          "name": "stdout",
          "text": [
            "(42, 1)\n",
            "(14, 1)\n"
          ]
        }
      ]
    },
    {
      "cell_type": "code",
      "source": [
        "# 훈련 데이터를 가지고 K-최근접 이웃 회귀 알고리즘을 사용하여 회귀 모델을 만들기\n",
        "from sklearn.neighbors import KNeighborsRegressor\n",
        "\n",
        "knr = KNeighborsRegressor()  # k-최근접 이웃 회귀 모델 알고리즘 사용\n",
        "knr.fit(train_input, train_target)"
      ],
      "metadata": {
        "colab": {
          "base_uri": "https://localhost:8080/",
          "height": 74
        },
        "id": "1kH4aO1TBs92",
        "outputId": "7aecec68-25f3-4e33-8832-db735f1ba4e4"
      },
      "execution_count": 19,
      "outputs": [
        {
          "output_type": "execute_result",
          "data": {
            "text/plain": [
              "KNeighborsRegressor()"
            ],
            "text/html": [
              "<style>#sk-container-id-1 {color: black;}#sk-container-id-1 pre{padding: 0;}#sk-container-id-1 div.sk-toggleable {background-color: white;}#sk-container-id-1 label.sk-toggleable__label {cursor: pointer;display: block;width: 100%;margin-bottom: 0;padding: 0.3em;box-sizing: border-box;text-align: center;}#sk-container-id-1 label.sk-toggleable__label-arrow:before {content: \"▸\";float: left;margin-right: 0.25em;color: #696969;}#sk-container-id-1 label.sk-toggleable__label-arrow:hover:before {color: black;}#sk-container-id-1 div.sk-estimator:hover label.sk-toggleable__label-arrow:before {color: black;}#sk-container-id-1 div.sk-toggleable__content {max-height: 0;max-width: 0;overflow: hidden;text-align: left;background-color: #f0f8ff;}#sk-container-id-1 div.sk-toggleable__content pre {margin: 0.2em;color: black;border-radius: 0.25em;background-color: #f0f8ff;}#sk-container-id-1 input.sk-toggleable__control:checked~div.sk-toggleable__content {max-height: 200px;max-width: 100%;overflow: auto;}#sk-container-id-1 input.sk-toggleable__control:checked~label.sk-toggleable__label-arrow:before {content: \"▾\";}#sk-container-id-1 div.sk-estimator input.sk-toggleable__control:checked~label.sk-toggleable__label {background-color: #d4ebff;}#sk-container-id-1 div.sk-label input.sk-toggleable__control:checked~label.sk-toggleable__label {background-color: #d4ebff;}#sk-container-id-1 input.sk-hidden--visually {border: 0;clip: rect(1px 1px 1px 1px);clip: rect(1px, 1px, 1px, 1px);height: 1px;margin: -1px;overflow: hidden;padding: 0;position: absolute;width: 1px;}#sk-container-id-1 div.sk-estimator {font-family: monospace;background-color: #f0f8ff;border: 1px dotted black;border-radius: 0.25em;box-sizing: border-box;margin-bottom: 0.5em;}#sk-container-id-1 div.sk-estimator:hover {background-color: #d4ebff;}#sk-container-id-1 div.sk-parallel-item::after {content: \"\";width: 100%;border-bottom: 1px solid gray;flex-grow: 1;}#sk-container-id-1 div.sk-label:hover label.sk-toggleable__label {background-color: #d4ebff;}#sk-container-id-1 div.sk-serial::before {content: \"\";position: absolute;border-left: 1px solid gray;box-sizing: border-box;top: 0;bottom: 0;left: 50%;z-index: 0;}#sk-container-id-1 div.sk-serial {display: flex;flex-direction: column;align-items: center;background-color: white;padding-right: 0.2em;padding-left: 0.2em;position: relative;}#sk-container-id-1 div.sk-item {position: relative;z-index: 1;}#sk-container-id-1 div.sk-parallel {display: flex;align-items: stretch;justify-content: center;background-color: white;position: relative;}#sk-container-id-1 div.sk-item::before, #sk-container-id-1 div.sk-parallel-item::before {content: \"\";position: absolute;border-left: 1px solid gray;box-sizing: border-box;top: 0;bottom: 0;left: 50%;z-index: -1;}#sk-container-id-1 div.sk-parallel-item {display: flex;flex-direction: column;z-index: 1;position: relative;background-color: white;}#sk-container-id-1 div.sk-parallel-item:first-child::after {align-self: flex-end;width: 50%;}#sk-container-id-1 div.sk-parallel-item:last-child::after {align-self: flex-start;width: 50%;}#sk-container-id-1 div.sk-parallel-item:only-child::after {width: 0;}#sk-container-id-1 div.sk-dashed-wrapped {border: 1px dashed gray;margin: 0 0.4em 0.5em 0.4em;box-sizing: border-box;padding-bottom: 0.4em;background-color: white;}#sk-container-id-1 div.sk-label label {font-family: monospace;font-weight: bold;display: inline-block;line-height: 1.2em;}#sk-container-id-1 div.sk-label-container {text-align: center;}#sk-container-id-1 div.sk-container {/* jupyter's `normalize.less` sets `[hidden] { display: none; }` but bootstrap.min.css set `[hidden] { display: none !important; }` so we also need the `!important` here to be able to override the default hidden behavior on the sphinx rendered scikit-learn.org. See: https://github.com/scikit-learn/scikit-learn/issues/21755 */display: inline-block !important;position: relative;}#sk-container-id-1 div.sk-text-repr-fallback {display: none;}</style><div id=\"sk-container-id-1\" class=\"sk-top-container\"><div class=\"sk-text-repr-fallback\"><pre>KNeighborsRegressor()</pre><b>In a Jupyter environment, please rerun this cell to show the HTML representation or trust the notebook. <br />On GitHub, the HTML representation is unable to render, please try loading this page with nbviewer.org.</b></div><div class=\"sk-container\" hidden><div class=\"sk-item\"><div class=\"sk-estimator sk-toggleable\"><input class=\"sk-toggleable__control sk-hidden--visually\" id=\"sk-estimator-id-1\" type=\"checkbox\" checked><label for=\"sk-estimator-id-1\" class=\"sk-toggleable__label sk-toggleable__label-arrow\">KNeighborsRegressor</label><div class=\"sk-toggleable__content\"><pre>KNeighborsRegressor()</pre></div></div></div></div></div>"
            ]
          },
          "metadata": {},
          "execution_count": 19
        }
      ]
    },
    {
      "cell_type": "code",
      "source": [
        "knr.score(test_input, test_target)  # 결정계수 점수"
      ],
      "metadata": {
        "colab": {
          "base_uri": "https://localhost:8080/"
        },
        "id": "ctfo0BmwCF-e",
        "outputId": "331f8f57-6878-4ca6-a97e-7af0dac40f4b"
      },
      "execution_count": 20,
      "outputs": [
        {
          "output_type": "execute_result",
          "data": {
            "text/plain": [
              "0.992809406101064"
            ]
          },
          "metadata": {},
          "execution_count": 20
        }
      ]
    },
    {
      "cell_type": "markdown",
      "source": [
        "결정계수(R2)의 식"
      ],
      "metadata": {
        "id": "f73oId8yBdqZ"
      }
    },
    {
      "cell_type": "markdown",
      "source": [
        "![image.png](data:image/png;base64,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)"
      ],
      "metadata": {
        "id": "v7vxFEvBBaC-"
      }
    },
    {
      "cell_type": "code",
      "source": [
        "# 위에서 훈련한 모델을 가지고 테스트 세트에 대한 예측\n",
        "test_prediction = knr.predict(test_input)\n",
        "\n",
        "print(test_target)\n",
        "print(test_prediction)"
      ],
      "metadata": {
        "colab": {
          "base_uri": "https://localhost:8080/"
        },
        "id": "5F8RpqLDDb8n",
        "outputId": "5bd796e2-e57b-41e6-c529-c8bbddfe1533"
      },
      "execution_count": 23,
      "outputs": [
        {
          "output_type": "stream",
          "name": "stdout",
          "text": [
            "[   5.9  100.   250.   130.   130.   820.   320.   188.   900.   125.\n",
            " 1000.    51.5  250.   300. ]\n",
            "[  60.    79.6  248.   122.   136.   847.   311.4  183.4  847.   113.\n",
            " 1010.    60.   248.   248. ]\n"
          ]
        }
      ]
    },
    {
      "cell_type": "code",
      "source": [
        "# 테스트 세트에 대한 평균 절대값 오차 계산하기\n",
        "from sklearn.metrics import mean_absolute_error\n",
        "\n",
        "mae = mean_absolute_error(test_target, test_prediction)\n",
        "print(mae)"
      ],
      "metadata": {
        "colab": {
          "base_uri": "https://localhost:8080/"
        },
        "id": "OcFzxKRnEGk_",
        "outputId": "f2243812-c352-463a-b92b-d7ef370291ae"
      },
      "execution_count": 25,
      "outputs": [
        {
          "output_type": "stream",
          "name": "stdout",
          "text": [
            "19.157142857142862\n"
          ]
        }
      ]
    },
    {
      "cell_type": "markdown",
      "source": [
        "# 과대적합: 훈련 세트에서 점수가 굉장히 좋았는데 테스트 세트에서 점수가 너무 나쁘면 해당 모델은 과대적합되었다라고 할 수 있음\n",
        "# 과소적합: 훈련 세트에서 테스트 세트보다 점수가 너무 낮은면 해당 모델은 과소적합되었다라고 할 수 있음\n",
        "\n",
        "  -> 위의 결과는 '과소적합'되었다라고 말할 수 있음. 왜냐하면 훈련 세트가 테스트 세트 점수보다 낮게 나왔기 때문"
      ],
      "metadata": {
        "id": "chXD9Ti7FGbH"
      }
    },
    {
      "cell_type": "code",
      "source": [
        "# 시도1 -> 과소적합을 피하기 위해 k-최근접 이웃 회귀 알고리즘의 파라미터 값을 수정해봄\n",
        "\n",
        "# 이웃의 계수(k계수) 값을 3으로 변경\n",
        "knr.n_neighbors = 3\n",
        "# 모델을 다시 훈련\n",
        "knr.fit(train_input, train_target)\n",
        "# 훈련 세트와 테스트 세트 점수를 다시 계산\n",
        "print(knr.score(train_input, train_target))\n",
        "print(knr.score(test_input, test_target))\n",
        "\n",
        "print('-' * 50)\n",
        "\n",
        "# 테스트 세트에 대한 평균 절대값 오차 계산하기\n",
        "from sklearn.metrics import mean_absolute_error\n",
        "\n",
        "# 위에서 훈련한 모델을 가지고 테스트 세트에 대한 예측\n",
        "test_prediction = knr.predict(test_input)\n",
        "\n",
        "mae = mean_absolute_error(test_target, test_prediction)\n",
        "print(mae)"
      ],
      "metadata": {
        "colab": {
          "base_uri": "https://localhost:8080/"
        },
        "id": "qjddT8MdHGXX",
        "outputId": "bcf66703-c2fb-4038-b3fe-479227cd769d"
      },
      "execution_count": 27,
      "outputs": [
        {
          "output_type": "stream",
          "name": "stdout",
          "text": [
            "0.9804899950518966\n",
            "0.9746459963987609\n",
            "--------------------------------------------------\n",
            "35.42380952380951\n"
          ]
        }
      ]
    },
    {
      "cell_type": "code",
      "source": [
        "import matplotlib.pyplot as plt\n",
        "\n",
        "# length에 해당하는 x좌표 생성\n",
        "x = np.arange(5, 45).reshape(-1, 1)\n",
        "\n",
        "# k_neighbors = 1, 3, 5일 때 그래프(혹은 기타 n)\n",
        "k_neighbors = 3\n",
        "\n",
        "knr.n_neighbors = k_neighbors\n",
        "knr.fit(train_input, train_target)\n",
        "# 지정한 x범위에 대한 예측 구하기\n",
        "prediction = knr.predict(x)   # x는 길이 prediction값은 무게\n",
        "\n",
        "plt.scatter(train_input, train_target)\n",
        "plt.plot(x, prediction)  # plot으로 된 line을 표시\n",
        "plt.title('n_neighbors = {}'.format(k_neighbors))\n",
        "plt.xlabel('length')\n",
        "plt.ylabel('weight')\n",
        "plt.show()"
      ],
      "metadata": {
        "colab": {
          "base_uri": "https://localhost:8080/",
          "height": 472
        },
        "id": "9VjJSwF4JJuB",
        "outputId": "5d05196a-2f44-40e9-9233-8ea3c7b0cc1e"
      },
      "execution_count": 37,
      "outputs": [
        {
          "output_type": "display_data",
          "data": {
            "text/plain": [
              "<Figure size 640x480 with 1 Axes>"
            ],
            "image/png": "[encoded data removed]"
          },
          "metadata": {}
        }
      ]
    }
  ]
}